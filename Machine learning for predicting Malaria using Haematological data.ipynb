{
 "cells": [
  {
   "cell_type": "markdown",
   "metadata": {
    "id": "modern-auction"
   },
   "source": [
    "# Disease Prediction using Machine Learning"
   ]
  },
  {
   "cell_type": "markdown",
   "metadata": {
    "id": "resident-american"
   },
   "source": [
    "- Disease:       Malaria\n",
    "- Data:          Haematological data\n",
    "- Classifier:    Random Forest\n",
    "- Python Libraries\n",
    "    - numpy\n",
    "    - scipy\n",
    "    - pandas\n",
    "    - matplotlib\n",
    "    - seaborn\n",
    "    - scikit-learn"
   ]
  },
  {
   "cell_type": "markdown",
   "metadata": {
    "id": "controlled-saudi"
   },
   "source": [
    "### Import libraries for the analysis "
   ]
  },
  {
   "cell_type": "code",
   "execution_count": 1,
   "metadata": {
    "id": "overhead-prefix"
   },
   "outputs": [],
   "source": [
    "import pandas as pd        #read,explore & clean data\n",
    "import numpy as np         # data manipulation\n",
    "import matplotlib.pyplot as plt   # data visualization\n",
    "import seaborn as sns             # data visualization"
   ]
  },
  {
   "cell_type": "markdown",
   "metadata": {
    "id": "comparable-transcription"
   },
   "source": [
    "### Read the data"
   ]
  },
  {
   "cell_type": "code",
   "execution_count": 2,
   "metadata": {
    "id": "photographic-worry"
   },
   "outputs": [],
   "source": [
    "#read the data with pandas\n",
    "dataframe=pd.read_excel(\"https://static-content.springer.com/esm/art%3A10.1186%2Fs12916-020-01823-3/MediaObjects/12916_2020_1823_MOESM2_ESM.xlsx\",sheet_name=\"Table S2 Hematological Raw Data\")"
   ]
  },
  {
   "cell_type": "code",
   "execution_count": null,
   "metadata": {
    "id": "ae8e2d7f"
   },
   "outputs": [],
   "source": []
  },
  {
   "cell_type": "markdown",
   "metadata": {
    "id": "coordinate-scotland"
   },
   "source": [
    "### Explore, clean and preprocess the data "
   ]
  },
  {
   "cell_type": "code",
   "execution_count": 3,
   "metadata": {
    "id": "3e5b41ad"
   },
   "outputs": [
    {
     "data": {
      "text/plain": [
       "(2207, 34)"
      ]
     },
     "execution_count": 3,
     "metadata": {},
     "output_type": "execute_result"
    }
   ],
   "source": [
    "#find the number of rows and columns in the dataframe\n",
    "dataframe.shape"
   ]
  },
  {
   "cell_type": "code",
   "execution_count": 4,
   "metadata": {
    "id": "c06f4ccf",
    "scrolled": true
   },
   "outputs": [
    {
     "data": {
      "text/html": [
       "<div>\n",
       "<style scoped>\n",
       "    .dataframe tbody tr th:only-of-type {\n",
       "        vertical-align: middle;\n",
       "    }\n",
       "\n",
       "    .dataframe tbody tr th {\n",
       "        vertical-align: top;\n",
       "    }\n",
       "\n",
       "    .dataframe thead th {\n",
       "        text-align: right;\n",
       "    }\n",
       "</style>\n",
       "<table border=\"1\" class=\"dataframe\">\n",
       "  <thead>\n",
       "    <tr style=\"text-align: right;\">\n",
       "      <th></th>\n",
       "      <th>SampleID</th>\n",
       "      <th>consent_given</th>\n",
       "      <th>location</th>\n",
       "      <th>Enrollment_Year</th>\n",
       "      <th>bednet</th>\n",
       "      <th>fever_symptom</th>\n",
       "      <th>temperature</th>\n",
       "      <th>Suspected_Organism</th>\n",
       "      <th>Suspected_infection</th>\n",
       "      <th>RDT</th>\n",
       "      <th>...</th>\n",
       "      <th>platelet_count</th>\n",
       "      <th>platelet_distr_width</th>\n",
       "      <th>mean_platelet_vl</th>\n",
       "      <th>neutrophils_percent</th>\n",
       "      <th>lymphocytes_percent</th>\n",
       "      <th>mixed_cells_percent</th>\n",
       "      <th>neutrophils_count</th>\n",
       "      <th>lymphocytes_count</th>\n",
       "      <th>mixed_cells_count</th>\n",
       "      <th>RBC_dist_width_Percent</th>\n",
       "    </tr>\n",
       "  </thead>\n",
       "  <tbody>\n",
       "    <tr>\n",
       "      <th>0</th>\n",
       "      <td>CCS20043</td>\n",
       "      <td>yes</td>\n",
       "      <td>Navrongo</td>\n",
       "      <td>2004</td>\n",
       "      <td>NaN</td>\n",
       "      <td>Yes</td>\n",
       "      <td>38.0</td>\n",
       "      <td>Not Known / Missing entry</td>\n",
       "      <td>NaN</td>\n",
       "      <td>Positive</td>\n",
       "      <td>...</td>\n",
       "      <td>156.0</td>\n",
       "      <td>8.2</td>\n",
       "      <td>6.8</td>\n",
       "      <td>61.8</td>\n",
       "      <td>31.7</td>\n",
       "      <td>6.5</td>\n",
       "      <td>3.6</td>\n",
       "      <td>1.8</td>\n",
       "      <td>0.3</td>\n",
       "      <td>19.0</td>\n",
       "    </tr>\n",
       "    <tr>\n",
       "      <th>1</th>\n",
       "      <td>CCS20102</td>\n",
       "      <td>yes</td>\n",
       "      <td>Navrongo</td>\n",
       "      <td>2004</td>\n",
       "      <td>NaN</td>\n",
       "      <td>Yes</td>\n",
       "      <td>38.2</td>\n",
       "      <td>Not Known / Missing entry</td>\n",
       "      <td>NaN</td>\n",
       "      <td>Positive</td>\n",
       "      <td>...</td>\n",
       "      <td>55.0</td>\n",
       "      <td>16.5</td>\n",
       "      <td>7.6</td>\n",
       "      <td>68.5</td>\n",
       "      <td>23.6</td>\n",
       "      <td>7.9</td>\n",
       "      <td>5.4</td>\n",
       "      <td>1.8</td>\n",
       "      <td>0.6</td>\n",
       "      <td>14.4</td>\n",
       "    </tr>\n",
       "    <tr>\n",
       "      <th>2</th>\n",
       "      <td>CCS20106</td>\n",
       "      <td>yes</td>\n",
       "      <td>Navrongo</td>\n",
       "      <td>2004</td>\n",
       "      <td>NaN</td>\n",
       "      <td>Yes</td>\n",
       "      <td>37.7</td>\n",
       "      <td>Not Known / Missing entry</td>\n",
       "      <td>NaN</td>\n",
       "      <td>Positive</td>\n",
       "      <td>...</td>\n",
       "      <td>20.0</td>\n",
       "      <td>2.3</td>\n",
       "      <td>5.9</td>\n",
       "      <td>32.8</td>\n",
       "      <td>53.3</td>\n",
       "      <td>13.9</td>\n",
       "      <td>2.8</td>\n",
       "      <td>4.3</td>\n",
       "      <td>1.1</td>\n",
       "      <td>18.0</td>\n",
       "    </tr>\n",
       "    <tr>\n",
       "      <th>3</th>\n",
       "      <td>CCS20147</td>\n",
       "      <td>yes</td>\n",
       "      <td>Navrongo</td>\n",
       "      <td>2004</td>\n",
       "      <td>NaN</td>\n",
       "      <td>Yes</td>\n",
       "      <td>37.7</td>\n",
       "      <td>Not Known / Missing entry</td>\n",
       "      <td>NaN</td>\n",
       "      <td>Positive</td>\n",
       "      <td>...</td>\n",
       "      <td>132.0</td>\n",
       "      <td>17.2</td>\n",
       "      <td>6.2</td>\n",
       "      <td>82.6</td>\n",
       "      <td>11.5</td>\n",
       "      <td>5.9</td>\n",
       "      <td>13.2</td>\n",
       "      <td>1.8</td>\n",
       "      <td>0.9</td>\n",
       "      <td>13.7</td>\n",
       "    </tr>\n",
       "    <tr>\n",
       "      <th>4</th>\n",
       "      <td>CCS20170</td>\n",
       "      <td>yes</td>\n",
       "      <td>Navrongo</td>\n",
       "      <td>2004</td>\n",
       "      <td>NaN</td>\n",
       "      <td>Yes</td>\n",
       "      <td>37.1</td>\n",
       "      <td>Not Known / Missing entry</td>\n",
       "      <td>NaN</td>\n",
       "      <td>Positive</td>\n",
       "      <td>...</td>\n",
       "      <td>85.0</td>\n",
       "      <td>16.1</td>\n",
       "      <td>6.8</td>\n",
       "      <td>83.7</td>\n",
       "      <td>11.3</td>\n",
       "      <td>5.0</td>\n",
       "      <td>3.8</td>\n",
       "      <td>0.5</td>\n",
       "      <td>0.2</td>\n",
       "      <td>15.0</td>\n",
       "    </tr>\n",
       "  </tbody>\n",
       "</table>\n",
       "<p>5 rows × 34 columns</p>\n",
       "</div>"
      ],
      "text/plain": [
       "   SampleID consent_given  location  Enrollment_Year bednet fever_symptom  \\\n",
       "0  CCS20043           yes  Navrongo             2004    NaN           Yes   \n",
       "1  CCS20102           yes  Navrongo             2004    NaN           Yes   \n",
       "2  CCS20106           yes  Navrongo             2004    NaN           Yes   \n",
       "3  CCS20147           yes  Navrongo             2004    NaN           Yes   \n",
       "4  CCS20170           yes  Navrongo             2004    NaN           Yes   \n",
       "\n",
       "   temperature         Suspected_Organism Suspected_infection       RDT  ...  \\\n",
       "0         38.0  Not Known / Missing entry                 NaN  Positive  ...   \n",
       "1         38.2  Not Known / Missing entry                 NaN  Positive  ...   \n",
       "2         37.7  Not Known / Missing entry                 NaN  Positive  ...   \n",
       "3         37.7  Not Known / Missing entry                 NaN  Positive  ...   \n",
       "4         37.1  Not Known / Missing entry                 NaN  Positive  ...   \n",
       "\n",
       "  platelet_count platelet_distr_width mean_platelet_vl  neutrophils_percent  \\\n",
       "0          156.0                  8.2              6.8                 61.8   \n",
       "1           55.0                 16.5              7.6                 68.5   \n",
       "2           20.0                  2.3              5.9                 32.8   \n",
       "3          132.0                 17.2              6.2                 82.6   \n",
       "4           85.0                 16.1              6.8                 83.7   \n",
       "\n",
       "  lymphocytes_percent mixed_cells_percent neutrophils_count  \\\n",
       "0                31.7                 6.5               3.6   \n",
       "1                23.6                 7.9               5.4   \n",
       "2                53.3                13.9               2.8   \n",
       "3                11.5                 5.9              13.2   \n",
       "4                11.3                 5.0               3.8   \n",
       "\n",
       "   lymphocytes_count  mixed_cells_count  RBC_dist_width_Percent  \n",
       "0                1.8                0.3                    19.0  \n",
       "1                1.8                0.6                    14.4  \n",
       "2                4.3                1.1                    18.0  \n",
       "3                1.8                0.9                    13.7  \n",
       "4                0.5                0.2                    15.0  \n",
       "\n",
       "[5 rows x 34 columns]"
      ]
     },
     "execution_count": 4,
     "metadata": {},
     "output_type": "execute_result"
    }
   ],
   "source": [
    "#get the first n rows in the dataframe\n",
    "dataframe.head(n=5)"
   ]
  },
  {
   "cell_type": "code",
   "execution_count": 5,
   "metadata": {
    "id": "cee131ee"
   },
   "outputs": [
    {
     "data": {
      "text/plain": [
       "Index(['SampleID', 'consent_given', 'location', 'Enrollment_Year', 'bednet',\n",
       "       'fever_symptom', 'temperature', 'Suspected_Organism',\n",
       "       'Suspected_infection', 'RDT', 'Blood_culture', 'Urine_culture',\n",
       "       'Taq_man_PCR', 'parasite_density', 'Microscopy', 'Laboratory_Results',\n",
       "       'Clinical_Diagnosis', 'wbc_count', 'rbc_count', 'hb_level',\n",
       "       'hematocrit', 'mean_cell_volume', 'mean_corp_hb', 'mean_cell_hb_conc',\n",
       "       'platelet_count', 'platelet_distr_width', 'mean_platelet_vl',\n",
       "       'neutrophils_percent', 'lymphocytes_percent', 'mixed_cells_percent',\n",
       "       'neutrophils_count', 'lymphocytes_count', 'mixed_cells_count',\n",
       "       'RBC_dist_width_Percent'],\n",
       "      dtype='object')"
      ]
     },
     "execution_count": 5,
     "metadata": {},
     "output_type": "execute_result"
    }
   ],
   "source": [
    "# list the column names\n",
    "dataframe.columns"
   ]
  },
  {
   "cell_type": "code",
   "execution_count": null,
   "metadata": {
    "id": "0b2fc6ea"
   },
   "outputs": [],
   "source": []
  },
  {
   "cell_type": "code",
   "execution_count": 6,
   "metadata": {
    "id": "57622b34",
    "scrolled": true
   },
   "outputs": [
    {
     "name": "stdout",
     "output_type": "stream",
     "text": [
      "<class 'pandas.core.frame.DataFrame'>\n",
      "RangeIndex: 2207 entries, 0 to 2206\n",
      "Data columns (total 34 columns):\n",
      " #   Column                  Non-Null Count  Dtype  \n",
      "---  ------                  --------------  -----  \n",
      " 0   SampleID                2207 non-null   object \n",
      " 1   consent_given           2207 non-null   object \n",
      " 2   location                2207 non-null   object \n",
      " 3   Enrollment_Year         2207 non-null   int64  \n",
      " 4   bednet                  1676 non-null   object \n",
      " 5   fever_symptom           2200 non-null   object \n",
      " 6   temperature             2197 non-null   float64\n",
      " 7   Suspected_Organism      2207 non-null   object \n",
      " 8   Suspected_infection     1569 non-null   object \n",
      " 9   RDT                     2065 non-null   object \n",
      " 10  Blood_culture           122 non-null    object \n",
      " 11  Urine_culture           112 non-null    object \n",
      " 12  Taq_man_PCR             176 non-null    object \n",
      " 13  parasite_density        2173 non-null   float64\n",
      " 14  Microscopy              2170 non-null   object \n",
      " 15  Laboratory_Results      2207 non-null   object \n",
      " 16  Clinical_Diagnosis      2207 non-null   object \n",
      " 17  wbc_count               2207 non-null   float64\n",
      " 18  rbc_count               2207 non-null   float64\n",
      " 19  hb_level                2207 non-null   float64\n",
      " 20  hematocrit              2207 non-null   float64\n",
      " 21  mean_cell_volume        2207 non-null   float64\n",
      " 22  mean_corp_hb            2204 non-null   float64\n",
      " 23  mean_cell_hb_conc       2205 non-null   float64\n",
      " 24  platelet_count          2198 non-null   float64\n",
      " 25  platelet_distr_width    2175 non-null   float64\n",
      " 26  mean_platelet_vl        2190 non-null   float64\n",
      " 27  neutrophils_percent     2207 non-null   float64\n",
      " 28  lymphocytes_percent     2207 non-null   float64\n",
      " 29  mixed_cells_percent     2207 non-null   float64\n",
      " 30  neutrophils_count       2195 non-null   float64\n",
      " 31  lymphocytes_count       2196 non-null   float64\n",
      " 32  mixed_cells_count       2196 non-null   float64\n",
      " 33  RBC_dist_width_Percent  2198 non-null   float64\n",
      "dtypes: float64(19), int64(1), object(14)\n",
      "memory usage: 586.4+ KB\n"
     ]
    }
   ],
   "source": [
    "#obtain some information about the data \n",
    "#i.e. columns,datatypes,missing values,etc\n",
    "dataframe.info()"
   ]
  },
  {
   "cell_type": "code",
   "execution_count": 7,
   "metadata": {
    "id": "0b6a589c"
   },
   "outputs": [],
   "source": [
    "#we are interested in the columns : 'Clinical_diagnosis' up to 'RBC_dist_width_Percent'\n",
    "#meaning we will subset the data from column 16 - the last column\n",
    "subset=dataframe.iloc[:,16:]"
   ]
  },
  {
   "cell_type": "code",
   "execution_count": 8,
   "metadata": {
    "id": "fc1a0186"
   },
   "outputs": [
    {
     "data": {
      "text/plain": [
       "(2207, 18)"
      ]
     },
     "execution_count": 8,
     "metadata": {},
     "output_type": "execute_result"
    }
   ],
   "source": [
    "subset.shape"
   ]
  },
  {
   "cell_type": "code",
   "execution_count": 9,
   "metadata": {
    "id": "38ba54da",
    "scrolled": true
   },
   "outputs": [
    {
     "name": "stdout",
     "output_type": "stream",
     "text": [
      "<class 'pandas.core.frame.DataFrame'>\n",
      "RangeIndex: 2207 entries, 0 to 2206\n",
      "Data columns (total 18 columns):\n",
      " #   Column                  Non-Null Count  Dtype  \n",
      "---  ------                  --------------  -----  \n",
      " 0   Clinical_Diagnosis      2207 non-null   object \n",
      " 1   wbc_count               2207 non-null   float64\n",
      " 2   rbc_count               2207 non-null   float64\n",
      " 3   hb_level                2207 non-null   float64\n",
      " 4   hematocrit              2207 non-null   float64\n",
      " 5   mean_cell_volume        2207 non-null   float64\n",
      " 6   mean_corp_hb            2204 non-null   float64\n",
      " 7   mean_cell_hb_conc       2205 non-null   float64\n",
      " 8   platelet_count          2198 non-null   float64\n",
      " 9   platelet_distr_width    2175 non-null   float64\n",
      " 10  mean_platelet_vl        2190 non-null   float64\n",
      " 11  neutrophils_percent     2207 non-null   float64\n",
      " 12  lymphocytes_percent     2207 non-null   float64\n",
      " 13  mixed_cells_percent     2207 non-null   float64\n",
      " 14  neutrophils_count       2195 non-null   float64\n",
      " 15  lymphocytes_count       2196 non-null   float64\n",
      " 16  mixed_cells_count       2196 non-null   float64\n",
      " 17  RBC_dist_width_Percent  2198 non-null   float64\n",
      "dtypes: float64(17), object(1)\n",
      "memory usage: 310.5+ KB\n"
     ]
    }
   ],
   "source": [
    "subset.info()"
   ]
  },
  {
   "cell_type": "code",
   "execution_count": 10,
   "metadata": {
    "id": "23afa181"
   },
   "outputs": [
    {
     "data": {
      "text/plain": [
       "Clinical_Diagnosis         0\n",
       "wbc_count                  0\n",
       "rbc_count                  0\n",
       "hb_level                   0\n",
       "hematocrit                 0\n",
       "mean_cell_volume           0\n",
       "mean_corp_hb               3\n",
       "mean_cell_hb_conc          2\n",
       "platelet_count             9\n",
       "platelet_distr_width      32\n",
       "mean_platelet_vl          17\n",
       "neutrophils_percent        0\n",
       "lymphocytes_percent        0\n",
       "mixed_cells_percent        0\n",
       "neutrophils_count         12\n",
       "lymphocytes_count         11\n",
       "mixed_cells_count         11\n",
       "RBC_dist_width_Percent     9\n",
       "dtype: int64"
      ]
     },
     "execution_count": 10,
     "metadata": {},
     "output_type": "execute_result"
    }
   ],
   "source": [
    "#Check the mising data. We are interested in how many missing data are present in each column\n",
    "subset.isnull().sum()"
   ]
  },
  {
   "cell_type": "code",
   "execution_count": 11,
   "metadata": {
    "id": "7325d532"
   },
   "outputs": [],
   "source": [
    "# handling missing values\n",
    "# drop / remove all rows with missing values\n",
    "subset.dropna(inplace=True)"
   ]
  },
  {
   "cell_type": "code",
   "execution_count": 12,
   "metadata": {
    "id": "fcab3308"
   },
   "outputs": [
    {
     "data": {
      "text/plain": [
       "(2156, 18)"
      ]
     },
     "execution_count": 12,
     "metadata": {},
     "output_type": "execute_result"
    }
   ],
   "source": [
    "subset.shape"
   ]
  },
  {
   "cell_type": "code",
   "execution_count": 13,
   "metadata": {
    "id": "f3eb1260"
   },
   "outputs": [
    {
     "data": {
      "text/plain": [
       "Index(['Clinical_Diagnosis', 'wbc_count', 'rbc_count', 'hb_level',\n",
       "       'hematocrit', 'mean_cell_volume', 'mean_corp_hb', 'mean_cell_hb_conc',\n",
       "       'platelet_count', 'platelet_distr_width', 'mean_platelet_vl',\n",
       "       'neutrophils_percent', 'lymphocytes_percent', 'mixed_cells_percent',\n",
       "       'neutrophils_count', 'lymphocytes_count', 'mixed_cells_count',\n",
       "       'RBC_dist_width_Percent'],\n",
       "      dtype='object')"
      ]
     },
     "execution_count": 13,
     "metadata": {},
     "output_type": "execute_result"
    }
   ],
   "source": [
    "subset.columns"
   ]
  },
  {
   "cell_type": "code",
   "execution_count": 14,
   "metadata": {
    "id": "c3a3b740"
   },
   "outputs": [],
   "source": [
    "#Let us get the different malaria outcomes. \n",
    "#The outcomes will be our labels/classes in the data"
   ]
  },
  {
   "cell_type": "code",
   "execution_count": 15,
   "metadata": {
    "id": "d365e4eb"
   },
   "outputs": [
    {
     "data": {
      "text/plain": [
       "array(['Severe Malaria', 'Uncomplicated Malaria', 'Non-malaria Infection'],\n",
       "      dtype=object)"
      ]
     },
     "execution_count": 15,
     "metadata": {},
     "output_type": "execute_result"
    }
   ],
   "source": [
    "subset['Clinical_Diagnosis'].unique()"
   ]
  },
  {
   "cell_type": "code",
   "execution_count": 16,
   "metadata": {
    "id": "f3270bab"
   },
   "outputs": [
    {
     "data": {
      "text/plain": [
       "['Severe Malaria', 'Severe Malaria', 'Severe Malaria', 'Severe Malaria', 'Severe Malaria', ..., 'Uncomplicated Malaria', 'Non-malaria Infection', 'Non-malaria Infection', 'Non-malaria Infection', 'Non-malaria Infection']\n",
       "Length: 2156\n",
       "Categories (3, object): ['Non-malaria Infection', 'Severe Malaria', 'Uncomplicated Malaria']"
      ]
     },
     "execution_count": 16,
     "metadata": {},
     "output_type": "execute_result"
    }
   ],
   "source": [
    "labels=pd.Categorical(subset['Clinical_Diagnosis'])\n",
    "labels"
   ]
  },
  {
   "cell_type": "code",
   "execution_count": 17,
   "metadata": {
    "id": "479b921e",
    "scrolled": true
   },
   "outputs": [
    {
     "data": {
      "text/html": [
       "<div>\n",
       "<style scoped>\n",
       "    .dataframe tbody tr th:only-of-type {\n",
       "        vertical-align: middle;\n",
       "    }\n",
       "\n",
       "    .dataframe tbody tr th {\n",
       "        vertical-align: top;\n",
       "    }\n",
       "\n",
       "    .dataframe thead th {\n",
       "        text-align: right;\n",
       "    }\n",
       "</style>\n",
       "<table border=\"1\" class=\"dataframe\">\n",
       "  <thead>\n",
       "    <tr style=\"text-align: right;\">\n",
       "      <th></th>\n",
       "      <th>Clinical_Diagnosis</th>\n",
       "      <th>wbc_count</th>\n",
       "      <th>rbc_count</th>\n",
       "      <th>hb_level</th>\n",
       "      <th>hematocrit</th>\n",
       "      <th>mean_cell_volume</th>\n",
       "      <th>mean_corp_hb</th>\n",
       "      <th>mean_cell_hb_conc</th>\n",
       "      <th>platelet_count</th>\n",
       "      <th>platelet_distr_width</th>\n",
       "      <th>mean_platelet_vl</th>\n",
       "      <th>neutrophils_percent</th>\n",
       "      <th>lymphocytes_percent</th>\n",
       "      <th>mixed_cells_percent</th>\n",
       "      <th>neutrophils_count</th>\n",
       "      <th>lymphocytes_count</th>\n",
       "      <th>mixed_cells_count</th>\n",
       "      <th>RBC_dist_width_Percent</th>\n",
       "    </tr>\n",
       "  </thead>\n",
       "  <tbody>\n",
       "    <tr>\n",
       "      <th>0</th>\n",
       "      <td>Severe Malaria</td>\n",
       "      <td>5.7</td>\n",
       "      <td>2.8</td>\n",
       "      <td>5.8</td>\n",
       "      <td>16.1</td>\n",
       "      <td>59.0</td>\n",
       "      <td>21.1</td>\n",
       "      <td>36.0</td>\n",
       "      <td>156.0</td>\n",
       "      <td>8.2</td>\n",
       "      <td>6.8</td>\n",
       "      <td>61.8</td>\n",
       "      <td>31.7</td>\n",
       "      <td>6.5</td>\n",
       "      <td>3.6</td>\n",
       "      <td>1.8</td>\n",
       "      <td>0.3</td>\n",
       "      <td>19.0</td>\n",
       "    </tr>\n",
       "    <tr>\n",
       "      <th>1</th>\n",
       "      <td>Severe Malaria</td>\n",
       "      <td>7.8</td>\n",
       "      <td>3.5</td>\n",
       "      <td>9.2</td>\n",
       "      <td>24.2</td>\n",
       "      <td>70.0</td>\n",
       "      <td>26.4</td>\n",
       "      <td>37.8</td>\n",
       "      <td>55.0</td>\n",
       "      <td>16.5</td>\n",
       "      <td>7.6</td>\n",
       "      <td>68.5</td>\n",
       "      <td>23.6</td>\n",
       "      <td>7.9</td>\n",
       "      <td>5.4</td>\n",
       "      <td>1.8</td>\n",
       "      <td>0.6</td>\n",
       "      <td>14.4</td>\n",
       "    </tr>\n",
       "    <tr>\n",
       "      <th>2</th>\n",
       "      <td>Severe Malaria</td>\n",
       "      <td>8.2</td>\n",
       "      <td>1.0</td>\n",
       "      <td>2.3</td>\n",
       "      <td>5.7</td>\n",
       "      <td>59.0</td>\n",
       "      <td>23.8</td>\n",
       "      <td>40.4</td>\n",
       "      <td>20.0</td>\n",
       "      <td>2.3</td>\n",
       "      <td>5.9</td>\n",
       "      <td>32.8</td>\n",
       "      <td>53.3</td>\n",
       "      <td>13.9</td>\n",
       "      <td>2.8</td>\n",
       "      <td>4.3</td>\n",
       "      <td>1.1</td>\n",
       "      <td>18.0</td>\n",
       "    </tr>\n",
       "    <tr>\n",
       "      <th>3</th>\n",
       "      <td>Severe Malaria</td>\n",
       "      <td>15.9</td>\n",
       "      <td>3.3</td>\n",
       "      <td>10.1</td>\n",
       "      <td>25.1</td>\n",
       "      <td>75.0</td>\n",
       "      <td>30.2</td>\n",
       "      <td>40.2</td>\n",
       "      <td>132.0</td>\n",
       "      <td>17.2</td>\n",
       "      <td>6.2</td>\n",
       "      <td>82.6</td>\n",
       "      <td>11.5</td>\n",
       "      <td>5.9</td>\n",
       "      <td>13.2</td>\n",
       "      <td>1.8</td>\n",
       "      <td>0.9</td>\n",
       "      <td>13.7</td>\n",
       "    </tr>\n",
       "    <tr>\n",
       "      <th>4</th>\n",
       "      <td>Severe Malaria</td>\n",
       "      <td>4.5</td>\n",
       "      <td>2.1</td>\n",
       "      <td>5.7</td>\n",
       "      <td>16.1</td>\n",
       "      <td>78.0</td>\n",
       "      <td>27.1</td>\n",
       "      <td>35.4</td>\n",
       "      <td>85.0</td>\n",
       "      <td>16.1</td>\n",
       "      <td>6.8</td>\n",
       "      <td>83.7</td>\n",
       "      <td>11.3</td>\n",
       "      <td>5.0</td>\n",
       "      <td>3.8</td>\n",
       "      <td>0.5</td>\n",
       "      <td>0.2</td>\n",
       "      <td>15.0</td>\n",
       "    </tr>\n",
       "  </tbody>\n",
       "</table>\n",
       "</div>"
      ],
      "text/plain": [
       "  Clinical_Diagnosis  wbc_count  rbc_count  hb_level  hematocrit  \\\n",
       "0     Severe Malaria        5.7        2.8       5.8        16.1   \n",
       "1     Severe Malaria        7.8        3.5       9.2        24.2   \n",
       "2     Severe Malaria        8.2        1.0       2.3         5.7   \n",
       "3     Severe Malaria       15.9        3.3      10.1        25.1   \n",
       "4     Severe Malaria        4.5        2.1       5.7        16.1   \n",
       "\n",
       "   mean_cell_volume  mean_corp_hb  mean_cell_hb_conc  platelet_count  \\\n",
       "0              59.0          21.1               36.0           156.0   \n",
       "1              70.0          26.4               37.8            55.0   \n",
       "2              59.0          23.8               40.4            20.0   \n",
       "3              75.0          30.2               40.2           132.0   \n",
       "4              78.0          27.1               35.4            85.0   \n",
       "\n",
       "   platelet_distr_width  mean_platelet_vl  neutrophils_percent  \\\n",
       "0                   8.2               6.8                 61.8   \n",
       "1                  16.5               7.6                 68.5   \n",
       "2                   2.3               5.9                 32.8   \n",
       "3                  17.2               6.2                 82.6   \n",
       "4                  16.1               6.8                 83.7   \n",
       "\n",
       "   lymphocytes_percent  mixed_cells_percent  neutrophils_count  \\\n",
       "0                 31.7                  6.5                3.6   \n",
       "1                 23.6                  7.9                5.4   \n",
       "2                 53.3                 13.9                2.8   \n",
       "3                 11.5                  5.9               13.2   \n",
       "4                 11.3                  5.0                3.8   \n",
       "\n",
       "   lymphocytes_count  mixed_cells_count  RBC_dist_width_Percent  \n",
       "0                1.8                0.3                    19.0  \n",
       "1                1.8                0.6                    14.4  \n",
       "2                4.3                1.1                    18.0  \n",
       "3                1.8                0.9                    13.7  \n",
       "4                0.5                0.2                    15.0  "
      ]
     },
     "execution_count": 17,
     "metadata": {},
     "output_type": "execute_result"
    }
   ],
   "source": [
    "subset.head()"
   ]
  },
  {
   "cell_type": "code",
   "execution_count": 18,
   "metadata": {
    "id": "653fee51"
   },
   "outputs": [
    {
     "data": {
      "text/plain": [
       "Non-malaria Infection    966\n",
       "Uncomplicated Malaria    702\n",
       "Severe Malaria           488\n",
       "Name: Clinical_Diagnosis, dtype: int64"
      ]
     },
     "execution_count": 18,
     "metadata": {},
     "output_type": "execute_result"
    }
   ],
   "source": [
    "#class distribution\n",
    "subset['Clinical_Diagnosis'].value_counts()"
   ]
  },
  {
   "cell_type": "code",
   "execution_count": 19,
   "metadata": {
    "id": "5340a0bf",
    "scrolled": true
   },
   "outputs": [
    {
     "data": {
      "text/plain": [
       "<AxesSubplot:>"
      ]
     },
     "execution_count": 19,
     "metadata": {},
     "output_type": "execute_result"
    },
    {
     "data": {
      "image/png": "[encoded data removed]",
      "text/plain": [
       "<Figure size 432x288 with 1 Axes>"
      ]
     },
     "metadata": {
      "needs_background": "light"
     },
     "output_type": "display_data"
    }
   ],
   "source": [
    "# plot a bar chat to display the class distribution\n",
    "subset['Clinical_Diagnosis'].value_counts().plot.bar()"
   ]
  },
  {
   "cell_type": "code",
   "execution_count": 20,
   "metadata": {
    "id": "143dc7d4",
    "scrolled": true
   },
   "outputs": [
    {
     "data": {
      "text/html": [
       "<div>\n",
       "<style scoped>\n",
       "    .dataframe tbody tr th:only-of-type {\n",
       "        vertical-align: middle;\n",
       "    }\n",
       "\n",
       "    .dataframe tbody tr th {\n",
       "        vertical-align: top;\n",
       "    }\n",
       "\n",
       "    .dataframe thead th {\n",
       "        text-align: right;\n",
       "    }\n",
       "</style>\n",
       "<table border=\"1\" class=\"dataframe\">\n",
       "  <thead>\n",
       "    <tr style=\"text-align: right;\">\n",
       "      <th></th>\n",
       "      <th>count</th>\n",
       "      <th>mean</th>\n",
       "      <th>std</th>\n",
       "      <th>min</th>\n",
       "      <th>25%</th>\n",
       "      <th>50%</th>\n",
       "      <th>75%</th>\n",
       "      <th>max</th>\n",
       "    </tr>\n",
       "  </thead>\n",
       "  <tbody>\n",
       "    <tr>\n",
       "      <th>wbc_count</th>\n",
       "      <td>2156.0</td>\n",
       "      <td>10.723516</td>\n",
       "      <td>5.944994</td>\n",
       "      <td>0.5</td>\n",
       "      <td>6.80</td>\n",
       "      <td>9.30</td>\n",
       "      <td>12.900</td>\n",
       "      <td>53.90</td>\n",
       "    </tr>\n",
       "    <tr>\n",
       "      <th>rbc_count</th>\n",
       "      <td>2156.0</td>\n",
       "      <td>3.911679</td>\n",
       "      <td>1.132454</td>\n",
       "      <td>0.5</td>\n",
       "      <td>3.34</td>\n",
       "      <td>4.17</td>\n",
       "      <td>4.650</td>\n",
       "      <td>6.67</td>\n",
       "    </tr>\n",
       "    <tr>\n",
       "      <th>hb_level</th>\n",
       "      <td>2156.0</td>\n",
       "      <td>9.423010</td>\n",
       "      <td>2.650261</td>\n",
       "      <td>1.4</td>\n",
       "      <td>7.90</td>\n",
       "      <td>10.20</td>\n",
       "      <td>11.325</td>\n",
       "      <td>18.70</td>\n",
       "    </tr>\n",
       "    <tr>\n",
       "      <th>hematocrit</th>\n",
       "      <td>2156.0</td>\n",
       "      <td>29.320223</td>\n",
       "      <td>8.802975</td>\n",
       "      <td>4.3</td>\n",
       "      <td>24.20</td>\n",
       "      <td>31.70</td>\n",
       "      <td>35.500</td>\n",
       "      <td>52.70</td>\n",
       "    </tr>\n",
       "    <tr>\n",
       "      <th>mean_cell_volume</th>\n",
       "      <td>2156.0</td>\n",
       "      <td>74.828256</td>\n",
       "      <td>8.046383</td>\n",
       "      <td>7.8</td>\n",
       "      <td>70.00</td>\n",
       "      <td>75.00</td>\n",
       "      <td>80.000</td>\n",
       "      <td>121.00</td>\n",
       "    </tr>\n",
       "    <tr>\n",
       "      <th>mean_corp_hb</th>\n",
       "      <td>2156.0</td>\n",
       "      <td>24.142189</td>\n",
       "      <td>3.203595</td>\n",
       "      <td>2.1</td>\n",
       "      <td>22.20</td>\n",
       "      <td>24.10</td>\n",
       "      <td>26.200</td>\n",
       "      <td>38.80</td>\n",
       "    </tr>\n",
       "    <tr>\n",
       "      <th>mean_cell_hb_conc</th>\n",
       "      <td>2156.0</td>\n",
       "      <td>32.259318</td>\n",
       "      <td>2.864637</td>\n",
       "      <td>15.7</td>\n",
       "      <td>30.60</td>\n",
       "      <td>32.10</td>\n",
       "      <td>33.425</td>\n",
       "      <td>46.60</td>\n",
       "    </tr>\n",
       "    <tr>\n",
       "      <th>platelet_count</th>\n",
       "      <td>2156.0</td>\n",
       "      <td>214.545176</td>\n",
       "      <td>128.697718</td>\n",
       "      <td>3.0</td>\n",
       "      <td>105.00</td>\n",
       "      <td>201.00</td>\n",
       "      <td>300.250</td>\n",
       "      <td>1087.00</td>\n",
       "    </tr>\n",
       "    <tr>\n",
       "      <th>platelet_distr_width</th>\n",
       "      <td>2156.0</td>\n",
       "      <td>14.137894</td>\n",
       "      <td>3.064643</td>\n",
       "      <td>0.0</td>\n",
       "      <td>12.90</td>\n",
       "      <td>14.90</td>\n",
       "      <td>15.600</td>\n",
       "      <td>23.90</td>\n",
       "    </tr>\n",
       "    <tr>\n",
       "      <th>mean_platelet_vl</th>\n",
       "      <td>2156.0</td>\n",
       "      <td>8.031447</td>\n",
       "      <td>1.194886</td>\n",
       "      <td>3.3</td>\n",
       "      <td>7.20</td>\n",
       "      <td>7.90</td>\n",
       "      <td>8.800</td>\n",
       "      <td>18.60</td>\n",
       "    </tr>\n",
       "    <tr>\n",
       "      <th>neutrophils_percent</th>\n",
       "      <td>2156.0</td>\n",
       "      <td>58.623006</td>\n",
       "      <td>16.613445</td>\n",
       "      <td>9.3</td>\n",
       "      <td>46.00</td>\n",
       "      <td>59.40</td>\n",
       "      <td>72.200</td>\n",
       "      <td>93.30</td>\n",
       "    </tr>\n",
       "    <tr>\n",
       "      <th>lymphocytes_percent</th>\n",
       "      <td>2156.0</td>\n",
       "      <td>33.014842</td>\n",
       "      <td>14.970647</td>\n",
       "      <td>3.8</td>\n",
       "      <td>20.60</td>\n",
       "      <td>31.70</td>\n",
       "      <td>44.200</td>\n",
       "      <td>81.50</td>\n",
       "    </tr>\n",
       "    <tr>\n",
       "      <th>mixed_cells_percent</th>\n",
       "      <td>2156.0</td>\n",
       "      <td>8.362199</td>\n",
       "      <td>3.436953</td>\n",
       "      <td>0.3</td>\n",
       "      <td>5.80</td>\n",
       "      <td>8.00</td>\n",
       "      <td>10.600</td>\n",
       "      <td>27.30</td>\n",
       "    </tr>\n",
       "    <tr>\n",
       "      <th>neutrophils_count</th>\n",
       "      <td>2156.0</td>\n",
       "      <td>6.440802</td>\n",
       "      <td>4.268695</td>\n",
       "      <td>0.1</td>\n",
       "      <td>3.60</td>\n",
       "      <td>5.40</td>\n",
       "      <td>8.000</td>\n",
       "      <td>42.00</td>\n",
       "    </tr>\n",
       "    <tr>\n",
       "      <th>lymphocytes_count</th>\n",
       "      <td>2156.0</td>\n",
       "      <td>3.430728</td>\n",
       "      <td>2.534383</td>\n",
       "      <td>0.3</td>\n",
       "      <td>1.70</td>\n",
       "      <td>2.80</td>\n",
       "      <td>4.400</td>\n",
       "      <td>28.10</td>\n",
       "    </tr>\n",
       "    <tr>\n",
       "      <th>mixed_cells_count</th>\n",
       "      <td>2156.0</td>\n",
       "      <td>0.851981</td>\n",
       "      <td>0.635395</td>\n",
       "      <td>0.0</td>\n",
       "      <td>0.40</td>\n",
       "      <td>0.70</td>\n",
       "      <td>1.100</td>\n",
       "      <td>5.60</td>\n",
       "    </tr>\n",
       "    <tr>\n",
       "      <th>RBC_dist_width_Percent</th>\n",
       "      <td>2156.0</td>\n",
       "      <td>16.333808</td>\n",
       "      <td>2.590446</td>\n",
       "      <td>10.6</td>\n",
       "      <td>14.50</td>\n",
       "      <td>15.80</td>\n",
       "      <td>17.600</td>\n",
       "      <td>29.00</td>\n",
       "    </tr>\n",
       "  </tbody>\n",
       "</table>\n",
       "</div>"
      ],
      "text/plain": [
       "                         count        mean         std   min     25%     50%  \\\n",
       "wbc_count               2156.0   10.723516    5.944994   0.5    6.80    9.30   \n",
       "rbc_count               2156.0    3.911679    1.132454   0.5    3.34    4.17   \n",
       "hb_level                2156.0    9.423010    2.650261   1.4    7.90   10.20   \n",
       "hematocrit              2156.0   29.320223    8.802975   4.3   24.20   31.70   \n",
       "mean_cell_volume        2156.0   74.828256    8.046383   7.8   70.00   75.00   \n",
       "mean_corp_hb            2156.0   24.142189    3.203595   2.1   22.20   24.10   \n",
       "mean_cell_hb_conc       2156.0   32.259318    2.864637  15.7   30.60   32.10   \n",
       "platelet_count          2156.0  214.545176  128.697718   3.0  105.00  201.00   \n",
       "platelet_distr_width    2156.0   14.137894    3.064643   0.0   12.90   14.90   \n",
       "mean_platelet_vl        2156.0    8.031447    1.194886   3.3    7.20    7.90   \n",
       "neutrophils_percent     2156.0   58.623006   16.613445   9.3   46.00   59.40   \n",
       "lymphocytes_percent     2156.0   33.014842   14.970647   3.8   20.60   31.70   \n",
       "mixed_cells_percent     2156.0    8.362199    3.436953   0.3    5.80    8.00   \n",
       "neutrophils_count       2156.0    6.440802    4.268695   0.1    3.60    5.40   \n",
       "lymphocytes_count       2156.0    3.430728    2.534383   0.3    1.70    2.80   \n",
       "mixed_cells_count       2156.0    0.851981    0.635395   0.0    0.40    0.70   \n",
       "RBC_dist_width_Percent  2156.0   16.333808    2.590446  10.6   14.50   15.80   \n",
       "\n",
       "                            75%      max  \n",
       "wbc_count                12.900    53.90  \n",
       "rbc_count                 4.650     6.67  \n",
       "hb_level                 11.325    18.70  \n",
       "hematocrit               35.500    52.70  \n",
       "mean_cell_volume         80.000   121.00  \n",
       "mean_corp_hb             26.200    38.80  \n",
       "mean_cell_hb_conc        33.425    46.60  \n",
       "platelet_count          300.250  1087.00  \n",
       "platelet_distr_width     15.600    23.90  \n",
       "mean_platelet_vl          8.800    18.60  \n",
       "neutrophils_percent      72.200    93.30  \n",
       "lymphocytes_percent      44.200    81.50  \n",
       "mixed_cells_percent      10.600    27.30  \n",
       "neutrophils_count         8.000    42.00  \n",
       "lymphocytes_count         4.400    28.10  \n",
       "mixed_cells_count         1.100     5.60  \n",
       "RBC_dist_width_Percent   17.600    29.00  "
      ]
     },
     "execution_count": 20,
     "metadata": {},
     "output_type": "execute_result"
    }
   ],
   "source": [
    "#descriptive statistics on the data\n",
    "subset.iloc[:,1:].describe().transpose()"
   ]
  },
  {
   "cell_type": "code",
   "execution_count": 21,
   "metadata": {
    "id": "99d94d9f",
    "scrolled": true
   },
   "outputs": [
    {
     "data": {
      "text/html": [
       "<div>\n",
       "<style scoped>\n",
       "    .dataframe tbody tr th:only-of-type {\n",
       "        vertical-align: middle;\n",
       "    }\n",
       "\n",
       "    .dataframe tbody tr th {\n",
       "        vertical-align: top;\n",
       "    }\n",
       "\n",
       "    .dataframe thead th {\n",
       "        text-align: right;\n",
       "    }\n",
       "</style>\n",
       "<table border=\"1\" class=\"dataframe\">\n",
       "  <thead>\n",
       "    <tr style=\"text-align: right;\">\n",
       "      <th></th>\n",
       "      <th>wbc_count</th>\n",
       "      <th>rbc_count</th>\n",
       "      <th>hb_level</th>\n",
       "      <th>hematocrit</th>\n",
       "      <th>mean_cell_volume</th>\n",
       "      <th>mean_corp_hb</th>\n",
       "      <th>mean_cell_hb_conc</th>\n",
       "      <th>platelet_count</th>\n",
       "      <th>platelet_distr_width</th>\n",
       "      <th>mean_platelet_vl</th>\n",
       "      <th>neutrophils_percent</th>\n",
       "      <th>lymphocytes_percent</th>\n",
       "      <th>mixed_cells_percent</th>\n",
       "      <th>neutrophils_count</th>\n",
       "      <th>lymphocytes_count</th>\n",
       "      <th>mixed_cells_count</th>\n",
       "      <th>RBC_dist_width_Percent</th>\n",
       "    </tr>\n",
       "  </thead>\n",
       "  <tbody>\n",
       "    <tr>\n",
       "      <th>wbc_count</th>\n",
       "      <td>1.000000</td>\n",
       "      <td>-0.217584</td>\n",
       "      <td>-0.283881</td>\n",
       "      <td>-0.261736</td>\n",
       "      <td>-0.150900</td>\n",
       "      <td>-0.084770</td>\n",
       "      <td>0.066981</td>\n",
       "      <td>0.122330</td>\n",
       "      <td>0.022260</td>\n",
       "      <td>-0.100716</td>\n",
       "      <td>0.093870</td>\n",
       "      <td>-0.090940</td>\n",
       "      <td>-0.057664</td>\n",
       "      <td>0.876999</td>\n",
       "      <td>0.689196</td>\n",
       "      <td>0.715568</td>\n",
       "      <td>0.252208</td>\n",
       "    </tr>\n",
       "    <tr>\n",
       "      <th>rbc_count</th>\n",
       "      <td>-0.217584</td>\n",
       "      <td>1.000000</td>\n",
       "      <td>0.896557</td>\n",
       "      <td>0.922294</td>\n",
       "      <td>-0.017848</td>\n",
       "      <td>-0.348335</td>\n",
       "      <td>-0.497615</td>\n",
       "      <td>0.409424</td>\n",
       "      <td>0.001756</td>\n",
       "      <td>0.284809</td>\n",
       "      <td>0.077574</td>\n",
       "      <td>-0.073216</td>\n",
       "      <td>-0.056070</td>\n",
       "      <td>-0.134216</td>\n",
       "      <td>-0.233978</td>\n",
       "      <td>-0.200859</td>\n",
       "      <td>-0.364396</td>\n",
       "    </tr>\n",
       "    <tr>\n",
       "      <th>hb_level</th>\n",
       "      <td>-0.283881</td>\n",
       "      <td>0.896557</td>\n",
       "      <td>1.000000</td>\n",
       "      <td>0.968644</td>\n",
       "      <td>0.286931</td>\n",
       "      <td>0.023659</td>\n",
       "      <td>-0.302304</td>\n",
       "      <td>0.353828</td>\n",
       "      <td>0.068770</td>\n",
       "      <td>0.248323</td>\n",
       "      <td>0.162289</td>\n",
       "      <td>-0.158665</td>\n",
       "      <td>-0.093352</td>\n",
       "      <td>-0.153907</td>\n",
       "      <td>-0.338160</td>\n",
       "      <td>-0.273327</td>\n",
       "      <td>-0.562710</td>\n",
       "    </tr>\n",
       "    <tr>\n",
       "      <th>hematocrit</th>\n",
       "      <td>-0.261736</td>\n",
       "      <td>0.922294</td>\n",
       "      <td>0.968644</td>\n",
       "      <td>1.000000</td>\n",
       "      <td>0.279029</td>\n",
       "      <td>-0.101461</td>\n",
       "      <td>-0.479766</td>\n",
       "      <td>0.387830</td>\n",
       "      <td>0.091718</td>\n",
       "      <td>0.285169</td>\n",
       "      <td>0.119252</td>\n",
       "      <td>-0.113198</td>\n",
       "      <td>-0.083365</td>\n",
       "      <td>-0.152236</td>\n",
       "      <td>-0.294044</td>\n",
       "      <td>-0.253324</td>\n",
       "      <td>-0.510445</td>\n",
       "    </tr>\n",
       "    <tr>\n",
       "      <th>mean_cell_volume</th>\n",
       "      <td>-0.150900</td>\n",
       "      <td>-0.017848</td>\n",
       "      <td>0.286931</td>\n",
       "      <td>0.279029</td>\n",
       "      <td>1.000000</td>\n",
       "      <td>0.722231</td>\n",
       "      <td>-0.077781</td>\n",
       "      <td>-0.002473</td>\n",
       "      <td>0.268485</td>\n",
       "      <td>0.038404</td>\n",
       "      <td>0.094697</td>\n",
       "      <td>-0.079596</td>\n",
       "      <td>-0.111013</td>\n",
       "      <td>-0.080385</td>\n",
       "      <td>-0.168477</td>\n",
       "      <td>-0.199845</td>\n",
       "      <td>-0.413033</td>\n",
       "    </tr>\n",
       "    <tr>\n",
       "      <th>mean_corp_hb</th>\n",
       "      <td>-0.084770</td>\n",
       "      <td>-0.348335</td>\n",
       "      <td>0.023659</td>\n",
       "      <td>-0.101461</td>\n",
       "      <td>0.722231</td>\n",
       "      <td>1.000000</td>\n",
       "      <td>0.576017</td>\n",
       "      <td>-0.202177</td>\n",
       "      <td>0.094658</td>\n",
       "      <td>-0.189324</td>\n",
       "      <td>0.149581</td>\n",
       "      <td>-0.151628</td>\n",
       "      <td>-0.062552</td>\n",
       "      <td>-0.011729</td>\n",
       "      <td>-0.152329</td>\n",
       "      <td>-0.106754</td>\n",
       "      <td>-0.334053</td>\n",
       "    </tr>\n",
       "    <tr>\n",
       "      <th>mean_cell_hb_conc</th>\n",
       "      <td>0.066981</td>\n",
       "      <td>-0.497615</td>\n",
       "      <td>-0.302304</td>\n",
       "      <td>-0.479766</td>\n",
       "      <td>-0.077781</td>\n",
       "      <td>0.576017</td>\n",
       "      <td>1.000000</td>\n",
       "      <td>-0.310377</td>\n",
       "      <td>-0.187634</td>\n",
       "      <td>-0.329254</td>\n",
       "      <td>0.110667</td>\n",
       "      <td>-0.132823</td>\n",
       "      <td>0.043621</td>\n",
       "      <td>0.089524</td>\n",
       "      <td>-0.016254</td>\n",
       "      <td>0.090089</td>\n",
       "      <td>-0.013497</td>\n",
       "    </tr>\n",
       "    <tr>\n",
       "      <th>platelet_count</th>\n",
       "      <td>0.122330</td>\n",
       "      <td>0.409424</td>\n",
       "      <td>0.353828</td>\n",
       "      <td>0.387830</td>\n",
       "      <td>-0.002473</td>\n",
       "      <td>-0.202177</td>\n",
       "      <td>-0.310377</td>\n",
       "      <td>1.000000</td>\n",
       "      <td>0.070121</td>\n",
       "      <td>-0.036139</td>\n",
       "      <td>-0.056902</td>\n",
       "      <td>0.042694</td>\n",
       "      <td>0.089093</td>\n",
       "      <td>0.102714</td>\n",
       "      <td>0.078041</td>\n",
       "      <td>0.143232</td>\n",
       "      <td>-0.104004</td>\n",
       "    </tr>\n",
       "    <tr>\n",
       "      <th>platelet_distr_width</th>\n",
       "      <td>0.022260</td>\n",
       "      <td>0.001756</td>\n",
       "      <td>0.068770</td>\n",
       "      <td>0.091718</td>\n",
       "      <td>0.268485</td>\n",
       "      <td>0.094658</td>\n",
       "      <td>-0.187634</td>\n",
       "      <td>0.070121</td>\n",
       "      <td>1.000000</td>\n",
       "      <td>0.233941</td>\n",
       "      <td>0.001142</td>\n",
       "      <td>0.018399</td>\n",
       "      <td>-0.085652</td>\n",
       "      <td>0.015390</td>\n",
       "      <td>0.037808</td>\n",
       "      <td>-0.045928</td>\n",
       "      <td>-0.087467</td>\n",
       "    </tr>\n",
       "    <tr>\n",
       "      <th>mean_platelet_vl</th>\n",
       "      <td>-0.100716</td>\n",
       "      <td>0.284809</td>\n",
       "      <td>0.248323</td>\n",
       "      <td>0.285169</td>\n",
       "      <td>0.038404</td>\n",
       "      <td>-0.189324</td>\n",
       "      <td>-0.329254</td>\n",
       "      <td>-0.036139</td>\n",
       "      <td>0.233941</td>\n",
       "      <td>1.000000</td>\n",
       "      <td>-0.055283</td>\n",
       "      <td>0.052658</td>\n",
       "      <td>0.037840</td>\n",
       "      <td>-0.118462</td>\n",
       "      <td>-0.021988</td>\n",
       "      <td>-0.058788</td>\n",
       "      <td>-0.112433</td>\n",
       "    </tr>\n",
       "    <tr>\n",
       "      <th>neutrophils_percent</th>\n",
       "      <td>0.093870</td>\n",
       "      <td>0.077574</td>\n",
       "      <td>0.162289</td>\n",
       "      <td>0.119252</td>\n",
       "      <td>0.094697</td>\n",
       "      <td>0.149581</td>\n",
       "      <td>0.110667</td>\n",
       "      <td>-0.056902</td>\n",
       "      <td>0.001142</td>\n",
       "      <td>-0.055283</td>\n",
       "      <td>1.000000</td>\n",
       "      <td>-0.981678</td>\n",
       "      <td>-0.557779</td>\n",
       "      <td>0.499188</td>\n",
       "      <td>-0.554208</td>\n",
       "      <td>-0.264797</td>\n",
       "      <td>-0.192329</td>\n",
       "    </tr>\n",
       "    <tr>\n",
       "      <th>lymphocytes_percent</th>\n",
       "      <td>-0.090940</td>\n",
       "      <td>-0.073216</td>\n",
       "      <td>-0.158665</td>\n",
       "      <td>-0.113198</td>\n",
       "      <td>-0.079596</td>\n",
       "      <td>-0.151628</td>\n",
       "      <td>-0.132823</td>\n",
       "      <td>0.042694</td>\n",
       "      <td>0.018399</td>\n",
       "      <td>0.052658</td>\n",
       "      <td>-0.981678</td>\n",
       "      <td>1.000000</td>\n",
       "      <td>0.389408</td>\n",
       "      <td>-0.487495</td>\n",
       "      <td>0.566632</td>\n",
       "      <td>0.164103</td>\n",
       "      <td>0.211099</td>\n",
       "    </tr>\n",
       "    <tr>\n",
       "      <th>mixed_cells_percent</th>\n",
       "      <td>-0.057664</td>\n",
       "      <td>-0.056070</td>\n",
       "      <td>-0.093352</td>\n",
       "      <td>-0.083365</td>\n",
       "      <td>-0.111013</td>\n",
       "      <td>-0.062552</td>\n",
       "      <td>0.043621</td>\n",
       "      <td>0.089093</td>\n",
       "      <td>-0.085652</td>\n",
       "      <td>0.037840</td>\n",
       "      <td>-0.557779</td>\n",
       "      <td>0.389408</td>\n",
       "      <td>1.000000</td>\n",
       "      <td>-0.289566</td>\n",
       "      <td>0.210764</td>\n",
       "      <td>0.565150</td>\n",
       "      <td>0.010148</td>\n",
       "    </tr>\n",
       "    <tr>\n",
       "      <th>neutrophils_count</th>\n",
       "      <td>0.876999</td>\n",
       "      <td>-0.134216</td>\n",
       "      <td>-0.153907</td>\n",
       "      <td>-0.152236</td>\n",
       "      <td>-0.080385</td>\n",
       "      <td>-0.011729</td>\n",
       "      <td>0.089524</td>\n",
       "      <td>0.102714</td>\n",
       "      <td>0.015390</td>\n",
       "      <td>-0.118462</td>\n",
       "      <td>0.499188</td>\n",
       "      <td>-0.487495</td>\n",
       "      <td>-0.289566</td>\n",
       "      <td>1.000000</td>\n",
       "      <td>0.263246</td>\n",
       "      <td>0.437362</td>\n",
       "      <td>0.115951</td>\n",
       "    </tr>\n",
       "    <tr>\n",
       "      <th>lymphocytes_count</th>\n",
       "      <td>0.689196</td>\n",
       "      <td>-0.233978</td>\n",
       "      <td>-0.338160</td>\n",
       "      <td>-0.294044</td>\n",
       "      <td>-0.168477</td>\n",
       "      <td>-0.152329</td>\n",
       "      <td>-0.016254</td>\n",
       "      <td>0.078041</td>\n",
       "      <td>0.037808</td>\n",
       "      <td>-0.021988</td>\n",
       "      <td>-0.554208</td>\n",
       "      <td>0.566632</td>\n",
       "      <td>0.210764</td>\n",
       "      <td>0.263246</td>\n",
       "      <td>1.000000</td>\n",
       "      <td>0.691170</td>\n",
       "      <td>0.348430</td>\n",
       "    </tr>\n",
       "    <tr>\n",
       "      <th>mixed_cells_count</th>\n",
       "      <td>0.715568</td>\n",
       "      <td>-0.200859</td>\n",
       "      <td>-0.273327</td>\n",
       "      <td>-0.253324</td>\n",
       "      <td>-0.199845</td>\n",
       "      <td>-0.106754</td>\n",
       "      <td>0.090089</td>\n",
       "      <td>0.143232</td>\n",
       "      <td>-0.045928</td>\n",
       "      <td>-0.058788</td>\n",
       "      <td>-0.264797</td>\n",
       "      <td>0.164103</td>\n",
       "      <td>0.565150</td>\n",
       "      <td>0.437362</td>\n",
       "      <td>0.691170</td>\n",
       "      <td>1.000000</td>\n",
       "      <td>0.191014</td>\n",
       "    </tr>\n",
       "    <tr>\n",
       "      <th>RBC_dist_width_Percent</th>\n",
       "      <td>0.252208</td>\n",
       "      <td>-0.364396</td>\n",
       "      <td>-0.562710</td>\n",
       "      <td>-0.510445</td>\n",
       "      <td>-0.413033</td>\n",
       "      <td>-0.334053</td>\n",
       "      <td>-0.013497</td>\n",
       "      <td>-0.104004</td>\n",
       "      <td>-0.087467</td>\n",
       "      <td>-0.112433</td>\n",
       "      <td>-0.192329</td>\n",
       "      <td>0.211099</td>\n",
       "      <td>0.010148</td>\n",
       "      <td>0.115951</td>\n",
       "      <td>0.348430</td>\n",
       "      <td>0.191014</td>\n",
       "      <td>1.000000</td>\n",
       "    </tr>\n",
       "  </tbody>\n",
       "</table>\n",
       "</div>"
      ],
      "text/plain": [
       "                        wbc_count  rbc_count  hb_level  hematocrit  \\\n",
       "wbc_count                1.000000  -0.217584 -0.283881   -0.261736   \n",
       "rbc_count               -0.217584   1.000000  0.896557    0.922294   \n",
       "hb_level                -0.283881   0.896557  1.000000    0.968644   \n",
       "hematocrit              -0.261736   0.922294  0.968644    1.000000   \n",
       "mean_cell_volume        -0.150900  -0.017848  0.286931    0.279029   \n",
       "mean_corp_hb            -0.084770  -0.348335  0.023659   -0.101461   \n",
       "mean_cell_hb_conc        0.066981  -0.497615 -0.302304   -0.479766   \n",
       "platelet_count           0.122330   0.409424  0.353828    0.387830   \n",
       "platelet_distr_width     0.022260   0.001756  0.068770    0.091718   \n",
       "mean_platelet_vl        -0.100716   0.284809  0.248323    0.285169   \n",
       "neutrophils_percent      0.093870   0.077574  0.162289    0.119252   \n",
       "lymphocytes_percent     -0.090940  -0.073216 -0.158665   -0.113198   \n",
       "mixed_cells_percent     -0.057664  -0.056070 -0.093352   -0.083365   \n",
       "neutrophils_count        0.876999  -0.134216 -0.153907   -0.152236   \n",
       "lymphocytes_count        0.689196  -0.233978 -0.338160   -0.294044   \n",
       "mixed_cells_count        0.715568  -0.200859 -0.273327   -0.253324   \n",
       "RBC_dist_width_Percent   0.252208  -0.364396 -0.562710   -0.510445   \n",
       "\n",
       "                        mean_cell_volume  mean_corp_hb  mean_cell_hb_conc  \\\n",
       "wbc_count                      -0.150900     -0.084770           0.066981   \n",
       "rbc_count                      -0.017848     -0.348335          -0.497615   \n",
       "hb_level                        0.286931      0.023659          -0.302304   \n",
       "hematocrit                      0.279029     -0.101461          -0.479766   \n",
       "mean_cell_volume                1.000000      0.722231          -0.077781   \n",
       "mean_corp_hb                    0.722231      1.000000           0.576017   \n",
       "mean_cell_hb_conc              -0.077781      0.576017           1.000000   \n",
       "platelet_count                 -0.002473     -0.202177          -0.310377   \n",
       "platelet_distr_width            0.268485      0.094658          -0.187634   \n",
       "mean_platelet_vl                0.038404     -0.189324          -0.329254   \n",
       "neutrophils_percent             0.094697      0.149581           0.110667   \n",
       "lymphocytes_percent            -0.079596     -0.151628          -0.132823   \n",
       "mixed_cells_percent            -0.111013     -0.062552           0.043621   \n",
       "neutrophils_count              -0.080385     -0.011729           0.089524   \n",
       "lymphocytes_count              -0.168477     -0.152329          -0.016254   \n",
       "mixed_cells_count              -0.199845     -0.106754           0.090089   \n",
       "RBC_dist_width_Percent         -0.413033     -0.334053          -0.013497   \n",
       "\n",
       "                        platelet_count  platelet_distr_width  \\\n",
       "wbc_count                     0.122330              0.022260   \n",
       "rbc_count                     0.409424              0.001756   \n",
       "hb_level                      0.353828              0.068770   \n",
       "hematocrit                    0.387830              0.091718   \n",
       "mean_cell_volume             -0.002473              0.268485   \n",
       "mean_corp_hb                 -0.202177              0.094658   \n",
       "mean_cell_hb_conc            -0.310377             -0.187634   \n",
       "platelet_count                1.000000              0.070121   \n",
       "platelet_distr_width          0.070121              1.000000   \n",
       "mean_platelet_vl             -0.036139              0.233941   \n",
       "neutrophils_percent          -0.056902              0.001142   \n",
       "lymphocytes_percent           0.042694              0.018399   \n",
       "mixed_cells_percent           0.089093             -0.085652   \n",
       "neutrophils_count             0.102714              0.015390   \n",
       "lymphocytes_count             0.078041              0.037808   \n",
       "mixed_cells_count             0.143232             -0.045928   \n",
       "RBC_dist_width_Percent       -0.104004             -0.087467   \n",
       "\n",
       "                        mean_platelet_vl  neutrophils_percent  \\\n",
       "wbc_count                      -0.100716             0.093870   \n",
       "rbc_count                       0.284809             0.077574   \n",
       "hb_level                        0.248323             0.162289   \n",
       "hematocrit                      0.285169             0.119252   \n",
       "mean_cell_volume                0.038404             0.094697   \n",
       "mean_corp_hb                   -0.189324             0.149581   \n",
       "mean_cell_hb_conc              -0.329254             0.110667   \n",
       "platelet_count                 -0.036139            -0.056902   \n",
       "platelet_distr_width            0.233941             0.001142   \n",
       "mean_platelet_vl                1.000000            -0.055283   \n",
       "neutrophils_percent            -0.055283             1.000000   \n",
       "lymphocytes_percent             0.052658            -0.981678   \n",
       "mixed_cells_percent             0.037840            -0.557779   \n",
       "neutrophils_count              -0.118462             0.499188   \n",
       "lymphocytes_count              -0.021988            -0.554208   \n",
       "mixed_cells_count              -0.058788            -0.264797   \n",
       "RBC_dist_width_Percent         -0.112433            -0.192329   \n",
       "\n",
       "                        lymphocytes_percent  mixed_cells_percent  \\\n",
       "wbc_count                         -0.090940            -0.057664   \n",
       "rbc_count                         -0.073216            -0.056070   \n",
       "hb_level                          -0.158665            -0.093352   \n",
       "hematocrit                        -0.113198            -0.083365   \n",
       "mean_cell_volume                  -0.079596            -0.111013   \n",
       "mean_corp_hb                      -0.151628            -0.062552   \n",
       "mean_cell_hb_conc                 -0.132823             0.043621   \n",
       "platelet_count                     0.042694             0.089093   \n",
       "platelet_distr_width               0.018399            -0.085652   \n",
       "mean_platelet_vl                   0.052658             0.037840   \n",
       "neutrophils_percent               -0.981678            -0.557779   \n",
       "lymphocytes_percent                1.000000             0.389408   \n",
       "mixed_cells_percent                0.389408             1.000000   \n",
       "neutrophils_count                 -0.487495            -0.289566   \n",
       "lymphocytes_count                  0.566632             0.210764   \n",
       "mixed_cells_count                  0.164103             0.565150   \n",
       "RBC_dist_width_Percent             0.211099             0.010148   \n",
       "\n",
       "                        neutrophils_count  lymphocytes_count  \\\n",
       "wbc_count                        0.876999           0.689196   \n",
       "rbc_count                       -0.134216          -0.233978   \n",
       "hb_level                        -0.153907          -0.338160   \n",
       "hematocrit                      -0.152236          -0.294044   \n",
       "mean_cell_volume                -0.080385          -0.168477   \n",
       "mean_corp_hb                    -0.011729          -0.152329   \n",
       "mean_cell_hb_conc                0.089524          -0.016254   \n",
       "platelet_count                   0.102714           0.078041   \n",
       "platelet_distr_width             0.015390           0.037808   \n",
       "mean_platelet_vl                -0.118462          -0.021988   \n",
       "neutrophils_percent              0.499188          -0.554208   \n",
       "lymphocytes_percent             -0.487495           0.566632   \n",
       "mixed_cells_percent             -0.289566           0.210764   \n",
       "neutrophils_count                1.000000           0.263246   \n",
       "lymphocytes_count                0.263246           1.000000   \n",
       "mixed_cells_count                0.437362           0.691170   \n",
       "RBC_dist_width_Percent           0.115951           0.348430   \n",
       "\n",
       "                        mixed_cells_count  RBC_dist_width_Percent  \n",
       "wbc_count                        0.715568                0.252208  \n",
       "rbc_count                       -0.200859               -0.364396  \n",
       "hb_level                        -0.273327               -0.562710  \n",
       "hematocrit                      -0.253324               -0.510445  \n",
       "mean_cell_volume                -0.199845               -0.413033  \n",
       "mean_corp_hb                    -0.106754               -0.334053  \n",
       "mean_cell_hb_conc                0.090089               -0.013497  \n",
       "platelet_count                   0.143232               -0.104004  \n",
       "platelet_distr_width            -0.045928               -0.087467  \n",
       "mean_platelet_vl                -0.058788               -0.112433  \n",
       "neutrophils_percent             -0.264797               -0.192329  \n",
       "lymphocytes_percent              0.164103                0.211099  \n",
       "mixed_cells_percent              0.565150                0.010148  \n",
       "neutrophils_count                0.437362                0.115951  \n",
       "lymphocytes_count                0.691170                0.348430  \n",
       "mixed_cells_count                1.000000                0.191014  \n",
       "RBC_dist_width_Percent           0.191014                1.000000  "
      ]
     },
     "execution_count": 21,
     "metadata": {},
     "output_type": "execute_result"
    }
   ],
   "source": [
    "#check the correlation for the features\n",
    "subset.corr()"
   ]
  },
  {
   "cell_type": "code",
   "execution_count": 22,
   "metadata": {
    "id": "cd99db30"
   },
   "outputs": [
    {
     "data": {
      "text/plain": [
       "<AxesSubplot:>"
      ]
     },
     "execution_count": 22,
     "metadata": {},
     "output_type": "execute_result"
    },
    {
     "data": {
      "image/png": "[encoded data removed]",
      "text/plain": [
       "<Figure size 432x288 with 2 Axes>"
      ]
     },
     "metadata": {
      "needs_background": "light"
     },
     "output_type": "display_data"
    }
   ],
   "source": [
    "#lets visualize the correlation matrix using seaborn\n",
    "sns.heatmap(subset.corr(),cmap='coolwarm')"
   ]
  },
  {
   "cell_type": "code",
   "execution_count": null,
   "metadata": {
    "id": "illegal-saint"
   },
   "outputs": [],
   "source": []
  },
  {
   "cell_type": "markdown",
   "metadata": {
    "id": "nuclear-attraction"
   },
   "source": [
    "## Data Preprocessing"
   ]
  },
  {
   "cell_type": "code",
   "execution_count": 23,
   "metadata": {
    "id": "8903eab7"
   },
   "outputs": [],
   "source": [
    "# separate the labels/classes from the features/measurement\n",
    "X=subset.iloc[:,1:]\n",
    "y=subset.iloc[:,0]"
   ]
  },
  {
   "cell_type": "code",
   "execution_count": 24,
   "metadata": {
    "id": "838cceb8"
   },
   "outputs": [
    {
     "data": {
      "text/plain": [
       "(2156, 17)"
      ]
     },
     "execution_count": 24,
     "metadata": {},
     "output_type": "execute_result"
    }
   ],
   "source": [
    "X.shape"
   ]
  },
  {
   "cell_type": "code",
   "execution_count": 25,
   "metadata": {
    "id": "e962186c",
    "scrolled": false
   },
   "outputs": [
    {
     "data": {
      "text/plain": [
       "(2156,)"
      ]
     },
     "execution_count": 25,
     "metadata": {},
     "output_type": "execute_result"
    }
   ],
   "source": [
    "y.shape"
   ]
  },
  {
   "cell_type": "code",
   "execution_count": 26,
   "metadata": {
    "id": "6333dbc2"
   },
   "outputs": [],
   "source": [
    "#encode the labels. \n",
    "#This is required by scikit learn when performing supervised learning"
   ]
  },
  {
   "cell_type": "code",
   "execution_count": 27,
   "metadata": {
    "id": "33eb6953"
   },
   "outputs": [],
   "source": [
    "from sklearn.preprocessing import LabelEncoder\n",
    "label_encoder=LabelEncoder()\n",
    "label_encoder.fit(y)\n",
    "y_encoded=label_encoder.transform(y)"
   ]
  },
  {
   "cell_type": "code",
   "execution_count": 28,
   "metadata": {
    "id": "389d61ef"
   },
   "outputs": [
    {
     "data": {
      "text/plain": [
       "array([1, 1, 1, 1, 1])"
      ]
     },
     "execution_count": 28,
     "metadata": {},
     "output_type": "execute_result"
    }
   ],
   "source": [
    "y_encoded[0:5]"
   ]
  },
  {
   "cell_type": "code",
   "execution_count": 29,
   "metadata": {
    "id": "7c7ca301"
   },
   "outputs": [
    {
     "data": {
      "text/plain": [
       "0    Severe Malaria\n",
       "1    Severe Malaria\n",
       "2    Severe Malaria\n",
       "3    Severe Malaria\n",
       "4    Severe Malaria\n",
       "Name: Clinical_Diagnosis, dtype: object"
      ]
     },
     "execution_count": 29,
     "metadata": {},
     "output_type": "execute_result"
    }
   ],
   "source": [
    "y[0:5]"
   ]
  },
  {
   "cell_type": "code",
   "execution_count": 30,
   "metadata": {
    "id": "3cbd6b91",
    "scrolled": false
   },
   "outputs": [
    {
     "data": {
      "text/plain": [
       "array(['Non-malaria Infection', 'Severe Malaria', 'Uncomplicated Malaria'],\n",
       "      dtype=object)"
      ]
     },
     "execution_count": 30,
     "metadata": {},
     "output_type": "execute_result"
    }
   ],
   "source": [
    "classes=label_encoder.classes_\n",
    "classes"
   ]
  },
  {
   "cell_type": "markdown",
   "metadata": {
    "id": "liquid-cooperative"
   },
   "source": [
    "## Split data into train and test sets"
   ]
  },
  {
   "cell_type": "code",
   "execution_count": 31,
   "metadata": {
    "id": "c396c54d"
   },
   "outputs": [],
   "source": [
    "# train test ratio 80:20"
   ]
  },
  {
   "cell_type": "code",
   "execution_count": 32,
   "metadata": {
    "id": "a443e25e"
   },
   "outputs": [],
   "source": [
    "from sklearn.model_selection import train_test_split\n",
    "X_train,X_test,y_train,y_test=train_test_split(X,y_encoded,test_size=0.2)"
   ]
  },
  {
   "cell_type": "code",
   "execution_count": 33,
   "metadata": {
    "id": "d4e73145"
   },
   "outputs": [
    {
     "data": {
      "text/plain": [
       "(1724, 17)"
      ]
     },
     "execution_count": 33,
     "metadata": {},
     "output_type": "execute_result"
    }
   ],
   "source": [
    "X_train.shape"
   ]
  },
  {
   "cell_type": "code",
   "execution_count": 34,
   "metadata": {
    "id": "bc4f8441"
   },
   "outputs": [
    {
     "data": {
      "text/plain": [
       "(1724,)"
      ]
     },
     "execution_count": 34,
     "metadata": {},
     "output_type": "execute_result"
    }
   ],
   "source": [
    "y_train.shape"
   ]
  },
  {
   "cell_type": "code",
   "execution_count": 35,
   "metadata": {
    "id": "b4eb1371"
   },
   "outputs": [
    {
     "data": {
      "text/plain": [
       "(432, 17)"
      ]
     },
     "execution_count": 35,
     "metadata": {},
     "output_type": "execute_result"
    }
   ],
   "source": [
    "X_test.shape"
   ]
  },
  {
   "cell_type": "code",
   "execution_count": 36,
   "metadata": {
    "id": "70e9dd39"
   },
   "outputs": [
    {
     "data": {
      "text/plain": [
       "(432,)"
      ]
     },
     "execution_count": 36,
     "metadata": {},
     "output_type": "execute_result"
    }
   ],
   "source": [
    "y_test.shape"
   ]
  },
  {
   "cell_type": "markdown",
   "metadata": {
    "id": "adapted-navigator"
   },
   "source": [
    "### Standardization of the data"
   ]
  },
  {
   "cell_type": "code",
   "execution_count": 37,
   "metadata": {
    "id": "b82dde0a"
   },
   "outputs": [],
   "source": [
    "# scale data between 0 and 1"
   ]
  },
  {
   "cell_type": "code",
   "execution_count": 38,
   "metadata": {
    "id": "a05b72bf"
   },
   "outputs": [],
   "source": [
    "from sklearn.preprocessing import MinMaxScaler\n",
    "min_max_scaler=MinMaxScaler()\n",
    "X_train_scaled=min_max_scaler.fit_transform(X_train)\n",
    "X_test_scaled=min_max_scaler.fit_transform(X_test)"
   ]
  },
  {
   "cell_type": "code",
   "execution_count": 39,
   "metadata": {
    "id": "11089084"
   },
   "outputs": [
    {
     "data": {
      "text/plain": [
       "0.3052434456928839"
      ]
     },
     "execution_count": 39,
     "metadata": {},
     "output_type": "execute_result"
    }
   ],
   "source": [
    "X_train_scaled[0,0]"
   ]
  },
  {
   "cell_type": "code",
   "execution_count": 40,
   "metadata": {
    "id": "ce8d121d",
    "scrolled": true
   },
   "outputs": [
    {
     "data": {
      "text/plain": [
       "16.8"
      ]
     },
     "execution_count": 40,
     "metadata": {},
     "output_type": "execute_result"
    }
   ],
   "source": [
    "X_train.iloc[0,0]"
   ]
  },
  {
   "cell_type": "code",
   "execution_count": null,
   "metadata": {
    "id": "b7ded5b6"
   },
   "outputs": [],
   "source": []
  },
  {
   "cell_type": "code",
   "execution_count": null,
   "metadata": {
    "id": "f76c8475"
   },
   "outputs": [],
   "source": []
  },
  {
   "cell_type": "markdown",
   "metadata": {
    "id": "egyptian-mileage"
   },
   "source": [
    "### Training Phase"
   ]
  },
  {
   "cell_type": "code",
   "execution_count": 41,
   "metadata": {
    "id": "f6e1acd2"
   },
   "outputs": [],
   "source": [
    "#create random forest classifier"
   ]
  },
  {
   "cell_type": "code",
   "execution_count": 42,
   "metadata": {
    "id": "5721daaa"
   },
   "outputs": [
    {
     "data": {
      "text/plain": [
       "RandomForestClassifier()"
      ]
     },
     "execution_count": 42,
     "metadata": {},
     "output_type": "execute_result"
    }
   ],
   "source": [
    "from sklearn.ensemble import RandomForestClassifier\n",
    "clf=RandomForestClassifier()\n",
    "clf.fit(X_train_scaled,y_train)"
   ]
  },
  {
   "cell_type": "markdown",
   "metadata": {
    "id": "amazing-controversy"
   },
   "source": [
    "### Testing phase"
   ]
  },
  {
   "cell_type": "code",
   "execution_count": 43,
   "metadata": {
    "id": "8f01fe10"
   },
   "outputs": [],
   "source": [
    "# model prediction on the test set"
   ]
  },
  {
   "cell_type": "code",
   "execution_count": 44,
   "metadata": {
    "id": "8eb88961"
   },
   "outputs": [],
   "source": [
    "y_pred=clf.predict(X_test_scaled)"
   ]
  },
  {
   "cell_type": "code",
   "execution_count": 45,
   "metadata": {
    "id": "ea7a60b6"
   },
   "outputs": [
    {
     "data": {
      "text/plain": [
       "array([0, 0, 0])"
      ]
     },
     "execution_count": 45,
     "metadata": {},
     "output_type": "execute_result"
    }
   ],
   "source": [
    "y_pred[0:3]"
   ]
  },
  {
   "cell_type": "code",
   "execution_count": 46,
   "metadata": {
    "id": "7ec958bc"
   },
   "outputs": [
    {
     "data": {
      "text/plain": [
       "array([0, 0, 0])"
      ]
     },
     "execution_count": 46,
     "metadata": {},
     "output_type": "execute_result"
    }
   ],
   "source": [
    "y_test[0:3]"
   ]
  },
  {
   "cell_type": "code",
   "execution_count": 47,
   "metadata": {
    "id": "94e67b1f"
   },
   "outputs": [
    {
     "data": {
      "text/plain": [
       "array(['Non-malaria Infection', 'Severe Malaria', 'Uncomplicated Malaria'],\n",
       "      dtype=object)"
      ]
     },
     "execution_count": 47,
     "metadata": {},
     "output_type": "execute_result"
    }
   ],
   "source": [
    "classes"
   ]
  },
  {
   "cell_type": "markdown",
   "metadata": {
    "id": "viral-touch"
   },
   "source": [
    "### Evaluating the model\n",
    "\n"
   ]
  },
  {
   "cell_type": "markdown",
   "metadata": {
    "id": "vulnerable-democrat"
   },
   "source": [
    "The following metrics will be used\n",
    "- accuracy\n",
    "- f1 score\n",
    "- recall\n",
    "- precision\n",
    "- confusion matrix"
   ]
  },
  {
   "cell_type": "code",
   "execution_count": 48,
   "metadata": {
    "id": "ac043ea1"
   },
   "outputs": [],
   "source": [
    "# import the metrics\n",
    "from sklearn.metrics import balanced_accuracy_score,f1_score,precision_score, recall_score\n",
    "from sklearn.metrics import plot_confusion_matrix"
   ]
  },
  {
   "cell_type": "code",
   "execution_count": 49,
   "metadata": {
    "id": "f229e64a"
   },
   "outputs": [
    {
     "name": "stdout",
     "output_type": "stream",
     "text": [
      "balanced accuracy: 0.78\n"
     ]
    }
   ],
   "source": [
    "#balanced accuracy\n",
    "balanced_accuracy=balanced_accuracy_score(y_test,y_pred)\n",
    "balanced_accuracy=round(balanced_accuracy,2)\n",
    "print('balanced accuracy:',balanced_accuracy)"
   ]
  },
  {
   "cell_type": "code",
   "execution_count": 50,
   "metadata": {
    "id": "47c02d53"
   },
   "outputs": [
    {
     "name": "stdout",
     "output_type": "stream",
     "text": [
      "f1score: 0.8\n"
     ]
    }
   ],
   "source": [
    "#f1score\n",
    "f1score=f1_score(y_test,y_pred,average='weighted')\n",
    "f1score=round(f1score,2)\n",
    "print('f1score:',f1score)"
   ]
  },
  {
   "cell_type": "code",
   "execution_count": 51,
   "metadata": {
    "id": "curious-lambda"
   },
   "outputs": [
    {
     "name": "stdout",
     "output_type": "stream",
     "text": [
      "precision: 0.81\n"
     ]
    }
   ],
   "source": [
    "#precision \n",
    "precision=precision_score(y_test,y_pred,average='weighted')\n",
    "precision=round(precision,2)\n",
    "print('precision:',precision)"
   ]
  },
  {
   "cell_type": "code",
   "execution_count": 52,
   "metadata": {
    "id": "26114c90"
   },
   "outputs": [
    {
     "name": "stdout",
     "output_type": "stream",
     "text": [
      "recall: 0.81\n"
     ]
    }
   ],
   "source": [
    "#recall\n",
    "recall=recall_score(y_test,y_pred,average='weighted')\n",
    "recall=round(recall,2)\n",
    "print('recall:',recall)"
   ]
  },
  {
   "cell_type": "code",
   "execution_count": 53,
   "metadata": {
    "id": "abfb19b4"
   },
   "outputs": [
    {
     "data": {
      "image/png": "[encoded data removed]",
      "text/plain": [
       "<Figure size 432x288 with 2 Axes>"
      ]
     },
     "metadata": {
      "needs_background": "light"
     },
     "output_type": "display_data"
    }
   ],
   "source": [
    "#confusion matrix\n",
    "disp=plot_confusion_matrix(clf,X_test_scaled,y_test,xticks_rotation='vertical',\n",
    "                     cmap='Blues',display_labels=classes)"
   ]
  }
 ],
 "metadata": {
  "colab": {
   "name": "Machine learning for predicting Malaria using Haematological data.ipynb",
   "provenance": []
  },
  "kernelspec": {
   "display_name": "Python 3",
   "language": "python",
   "name": "python3"
  },
  "language_info": {
   "codemirror_mode": {
    "name": "ipython",
    "version": 3
   },
   "file_extension": ".py",
   "mimetype": "text/x-python",
   "name": "python",
   "nbconvert_exporter": "python",
   "pygments_lexer": "ipython3",
   "version": "3.8.5"
  }
 },
 "nbformat": 4,
 "nbformat_minor": 5
}
